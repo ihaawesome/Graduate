{
 "cells": [
  {
   "cell_type": "markdown",
   "metadata": {},
   "source": [
    "## RNN을 이용한 SIN 함수 예측\n",
    "\n",
    "  \n",
    "과목명 | 금융공학  \n",
    "교수명 | 안재윤 교수님  \n",
    "제출일 | 2018년 12월 04일  \n",
    "  \n",
    "학　번 | 182STG18  \n",
    "이　름 | 이하경  "
   ]
  },
  {
   "cell_type": "code",
   "execution_count": 1,
   "metadata": {},
   "outputs": [],
   "source": [
    "import tensorflow as tf\n",
    "import numpy as np\n",
    "import matplotlib.pyplot as plt"
   ]
  },
  {
   "cell_type": "code",
   "execution_count": 2,
   "metadata": {},
   "outputs": [],
   "source": [
    "def sin(x, T = 100):\n",
    "    return np.sin(2 * np.pi * x / T)"
   ]
  },
  {
   "cell_type": "code",
   "execution_count": 3,
   "metadata": {},
   "outputs": [
    {
     "data": {
      "text/plain": [
       "array([0.06279052, 0.12533323, 0.18738131, 0.24868989, 0.30901699])"
      ]
     },
     "execution_count": 3,
     "metadata": {},
     "output_type": "execute_result"
    }
   ],
   "source": [
    "x = np.arange(1, 6)\n",
    "sin(x)"
   ]
  },
  {
   "cell_type": "code",
   "execution_count": 4,
   "metadata": {},
   "outputs": [],
   "source": [
    "def toy_problem(T = 100, ampl = 0.05):\n",
    "    x = np.arange(0, 2*T +1) # sequence 0, ..., 200\n",
    "    noise = ampl * np.random.uniform(low = -1, high = 1, size = len(x))\n",
    "    return sin(x) + noise"
   ]
  },
  {
   "cell_type": "markdown",
   "metadata": {},
   "source": [
    "### Generate Real Data"
   ]
  },
  {
   "cell_type": "code",
   "execution_count": 5,
   "metadata": {},
   "outputs": [
    {
     "data": {
      "image/png": "[encoded data removed]",
      "text/plain": [
       "<Figure size 432x288 with 1 Axes>"
      ]
     },
     "metadata": {},
     "output_type": "display_data"
    }
   ],
   "source": [
    "T = 100\n",
    "f = toy_problem(T)\n",
    "x = np.arange(0, 2*T +1) *2*np.pi/T # x축 scale 조정\n",
    "\n",
    "plt.plot(x, f)\n",
    "plt.title('sin(x) with noise')\n",
    "plt.show()"
   ]
  },
  {
   "cell_type": "code",
   "execution_count": 6,
   "metadata": {},
   "outputs": [],
   "source": [
    "seq_length = 25\n",
    "\n",
    "data = []\n",
    "target = []\n",
    "\n",
    "for i in range(0, len(x) - seq_length): # 0부터 175까지 각각의 25개짜리 시퀀스의 시작점\n",
    "    data.append(f[i:(i+seq_length)])    # t = 0부터 24까지 25개의 data로\n",
    "    target.append(f[i+seq_length])      # t = 25의 target을 예측\n",
    "    \n",
    "X = np.array(data).reshape(len(data), seq_length, 1)\n",
    "Y = np.array(target).reshape(len(data), 1)"
   ]
  },
  {
   "cell_type": "code",
   "execution_count": 7,
   "metadata": {},
   "outputs": [
    {
     "name": "stdout",
     "output_type": "stream",
     "text": [
      "(176, 25, 1) (176, 1)\n"
     ]
    }
   ],
   "source": [
    "print(X.shape, Y.shape)"
   ]
  },
  {
   "cell_type": "code",
   "execution_count": 8,
   "metadata": {},
   "outputs": [],
   "source": [
    "from sklearn.model_selection import train_test_split\n",
    "\n",
    "N_train = int(len(data) * 0.9)\n",
    "N_valid = len(data) - N_train\n",
    "\n",
    "X_train, X_valid, Y_train, Y_valid = train_test_split(X, Y, test_size = N_valid)"
   ]
  },
  {
   "cell_type": "code",
   "execution_count": 9,
   "metadata": {},
   "outputs": [
    {
     "name": "stdout",
     "output_type": "stream",
     "text": [
      "train.shape: (158, 25, 1) (158, 1)\n",
      "validation.shape: (18, 25, 1) (18, 1)\n"
     ]
    }
   ],
   "source": [
    "print(\"train.shape:\", X_train.shape, Y_train.shape)\n",
    "print(\"validation.shape:\", X_valid.shape, Y_valid.shape)"
   ]
  },
  {
   "cell_type": "markdown",
   "metadata": {},
   "source": [
    "###  Modeling by Tensorflow"
   ]
  },
  {
   "cell_type": "code",
   "execution_count": 10,
   "metadata": {},
   "outputs": [],
   "source": [
    "n_in = X.shape[-1]  # X의 feature(variable)의 개수 (=1)\n",
    "n_out = X.shape[-1] # Y의 class의 개수 (=1)\n",
    "\n",
    "n_hidden = 30      "
   ]
  },
  {
   "cell_type": "code",
   "execution_count": 11,
   "metadata": {},
   "outputs": [],
   "source": [
    "# placeholders\n",
    "x = tf.placeholder(tf.float32, [None, seq_length, n_in]) # sequence를 feed\n",
    "p = tf.placeholder(tf.float32, [None, n_out]) # target을 feed\n",
    "n_batch = tf.placeholder(tf.int32)"
   ]
  },
  {
   "cell_type": "code",
   "execution_count": 12,
   "metadata": {},
   "outputs": [],
   "source": [
    "def get_variable(name, shape):\n",
    "    return tf.get_variable(name, shape, tf.float32,\n",
    "                           initializer = tf.contrib.layers.xavier_initializer())"
   ]
  },
  {
   "cell_type": "markdown",
   "metadata": {},
   "source": [
    "### Basic RNN Cell :"
   ]
  },
  {
   "cell_type": "code",
   "execution_count": 13,
   "metadata": {},
   "outputs": [],
   "source": [
    "# Input Gate\n",
    "Wxa = get_variable('Wxa', [n_in, n_hidden])        # ~ x(t) [n_batch, n_in]와 곱해지면 [n_batch, n_hidden]이 됨\n",
    "Waa = get_variable('Waa', [n_hidden, n_hidden])    # ~ a(t-1) [n_batch, n_hidden]와 곱해지면 [n_hidden, n_hidden]이 됨\n",
    "Wa = tf.concat([Wxa, Waa], axis = 0)               # [n_batch + n_hidden, n_hidden] 차원, [x(t),a(t-1)]와 곱해지면 [n_batch, n_hidden]\n",
    "ba = get_variable('ba', [n_hidden])                # a(t) = tf.tanh( tf.matmul([x(t),a(t-1)], Wa) + ba )\n",
    "\n",
    "Way = get_variable('Way', [n_hidden, 1])           # ~ 새로 만들어진 a(t)와 곱해짐 (하나의 output)\n",
    "by = get_variable('by', [1])                       # tf.tanh( tf.matmul(a(t), Way) + by ) = y_hat(t)_output 이라고 하면 \n",
    "# Linear\n",
    "W = get_variable('W', [1, n_out])                  # y_hat(t) = tf.matmul( y_hat(t)_output ) + b\n",
    "b = get_variable('b', [n_out])"
   ]
  },
  {
   "cell_type": "code",
   "execution_count": 14,
   "metadata": {},
   "outputs": [],
   "source": [
    "# hidden = a (hidden) state\n",
    "\n",
    "init_state = tf.zeros([n_batch, n_hidden], tf.float32) # cell.zero_state(n_batch)\n",
    "state = init_state\n",
    "\n",
    "y_hats = []\n",
    "hiddens = []\n",
    "\n",
    "x_ = tf.unstack(x, axis = 1)                           # [None, n_in] 25개를 풀어서 저장\n",
    "for t, x_t in enumerate(x_):\n",
    "    if t == 0:                                         # t = 0일 경우 initial state a(0)를 이용\n",
    "        xa = tf.concat([x_t, state], axis = 1)         # 차원은 [n_batch, n_batch + n_hidden]\n",
    "    else:\n",
    "        xa = tf.concat([x_t, hiddens[t-1]], axis = 1)  # t > 0일 경우 이전 state a(t-1)의 값을 이용\n",
    "    \n",
    "    state = tf.tanh( tf.matmul(xa, Wa) + ba )          # = a(t)\n",
    "    y_hat = tf.tanh( tf.matmul(state, Way) + by )\n",
    "\n",
    "    hiddens.append(state)                              # a(t)를 저장하여 다음 시점에 사용하기 위함\n",
    "    y_hats.append(y_hat)                               \n",
    "    \n",
    "y_hat_output = y_hats[-1]                              # x(1),...,x(25)으로 y_hat(26) 하나의 값 예측\n",
    "y = tf.matmul( y_hat_output, W ) + b                   # 최종 linear output"
   ]
  },
  {
   "cell_type": "code",
   "execution_count": 15,
   "metadata": {},
   "outputs": [],
   "source": [
    "loss = tf.reduce_mean(tf.square(y - p))                # MSE\n",
    "optimizer = tf.train.AdamOptimizer(learning_rate = 0.001, beta1 = 0.9, beta2 = 0.999)\n",
    "train_step = optimizer.minimize(loss)"
   ]
  },
  {
   "cell_type": "code",
   "execution_count": 16,
   "metadata": {},
   "outputs": [],
   "source": [
    "init = tf.global_variables_initializer()\n",
    "sess = tf.Session()\n",
    "sess.run(init)\n",
    "\n",
    "epochs = 500\n",
    "batch_size = 10\n",
    "n_batches = N_train // batch_size\n",
    "\n",
    "from sklearn.utils import shuffle\n",
    "\n",
    "my_loss = []\n",
    "for epoch in range(epochs):\n",
    "    X_, Y_ = shuffle(X_train, Y_train)\n",
    "    \n",
    "    for i in range(n_batches):\n",
    "        start = i * batch_size\n",
    "        end = start + batch_size\n",
    "        sess.run(train_step, feed_dict = {\n",
    "            x: X_[start:end], p: Y_[start:end], n_batch: batch_size\n",
    "        })\n",
    "        val_loss = sess.run(loss, feed_dict = {\n",
    "            x: X_[start:end], p: Y_[start:end], n_batch: batch_size\n",
    "        })\n",
    "        my_loss.append(val_loss)\n",
    "        \n",
    "#         if epoch % 10 == 0:\n",
    "#             print(\"epoch:\", epoch, \"current loss:\", val_loss)"
   ]
  },
  {
   "cell_type": "code",
   "execution_count": 29,
   "metadata": {},
   "outputs": [
    {
     "data": {
      "image/png": "[encoded data removed]",
      "text/plain": [
       "<Figure size 432x288 with 1 Axes>"
      ]
     },
     "metadata": {},
     "output_type": "display_data"
    }
   ],
   "source": [
    "plt.plot(my_loss)\n",
    "plt.ylabel('MSE')\n",
    "plt.show()"
   ]
  },
  {
   "cell_type": "code",
   "execution_count": 17,
   "metadata": {},
   "outputs": [
    {
     "data": {
      "text/plain": [
       "0.0011249053"
      ]
     },
     "execution_count": 17,
     "metadata": {},
     "output_type": "execute_result"
    }
   ],
   "source": [
    "# train data의 MSE\n",
    "loss.eval(session = sess, feed_dict = { x: X_train, p: Y_train, n_batch: X_train.shape[0] })"
   ]
  },
  {
   "cell_type": "code",
   "execution_count": 18,
   "metadata": {},
   "outputs": [
    {
     "data": {
      "text/plain": [
       "0.000743463"
      ]
     },
     "execution_count": 18,
     "metadata": {},
     "output_type": "execute_result"
    }
   ],
   "source": [
    "# validation data의 MSE\n",
    "loss.eval(session = sess, feed_dict = { x: X_valid, p: Y_valid, n_batch: X_valid.shape[0] }) "
   ]
  },
  {
   "cell_type": "code",
   "execution_count": 19,
   "metadata": {},
   "outputs": [
    {
     "data": {
      "text/plain": [
       "(176, 1)"
      ]
     },
     "execution_count": 19,
     "metadata": {},
     "output_type": "execute_result"
    }
   ],
   "source": [
    "y_pred = y.eval(session = sess, feed_dict = { x: X, p: Y, n_batch: X.shape[0] })\n",
    "y_pred.shape "
   ]
  },
  {
   "cell_type": "code",
   "execution_count": 20,
   "metadata": {},
   "outputs": [
    {
     "data": {
      "image/png": "[encoded data removed]",
      "text/plain": [
       "<Figure size 432x288 with 1 Axes>"
      ]
     },
     "metadata": {},
     "output_type": "display_data"
    }
   ],
   "source": [
    "time = np.arange(seq_length+1, (seq_length+X.shape[0]+1))\n",
    "\n",
    "plt.plot(toy_problem(100, ampl = 0), ':k')\n",
    "plt.plot(time, y_pred.reshape(y_pred.shape[0]), 'r')\n",
    "plt.show()"
   ]
  },
  {
   "cell_type": "markdown",
   "metadata": {},
   "source": [
    "### Modeling by Keras"
   ]
  },
  {
   "cell_type": "code",
   "execution_count": 21,
   "metadata": {},
   "outputs": [
    {
     "name": "stderr",
     "output_type": "stream",
     "text": [
      "Using TensorFlow backend.\n"
     ]
    }
   ],
   "source": [
    "import keras\n",
    "from keras.layers.recurrent import SimpleRNN\n",
    "from keras.models import Sequential\n",
    "from keras.layers import Activation, Dense"
   ]
  },
  {
   "cell_type": "code",
   "execution_count": 22,
   "metadata": {},
   "outputs": [],
   "source": [
    "# weight와 bias variable을 정의하기 위한 함수(초기값 할당)\n",
    "\n",
    "def weight_variable(shape):\n",
    "    return tf.Variable(tf.truncated_normal(shape, stddev = 0.01))\n",
    "def bias_variable(shape):\n",
    "    return tf.Variable(tf.zeros(shape))"
   ]
  },
  {
   "cell_type": "code",
   "execution_count": 23,
   "metadata": {},
   "outputs": [
    {
     "name": "stderr",
     "output_type": "stream",
     "text": [
      "C:\\Users\\HG\\Anaconda3\\lib\\site-packages\\ipykernel_launcher.py:8: UserWarning: Update your `SimpleRNN` call to the Keras 2 API: `SimpleRNN(units=30, input_shape=(25, 1), kernel_initializer=<function ...)`\n",
      "  \n",
      "C:\\Users\\HG\\Anaconda3\\lib\\site-packages\\ipykernel_launcher.py:13: UserWarning: Update your `Dense` call to the Keras 2 API: `Dense(1, kernel_initializer=<function ...)`\n",
      "  del sys.path[0]\n"
     ]
    }
   ],
   "source": [
    "# modeling을 시작하자\n",
    "model = Sequential() \n",
    "\n",
    "# 가장 간단한 RNN Cell을 만든다\n",
    "# t 시점에서 x(t)와 이전 시점의 state a(t-1)이 입력되어 a(t)와 y_hat(t)를 출력함\n",
    "\n",
    "model.add(SimpleRNN(units = n_hidden, init = weight_variable, # state의 shape = [n_batch, n_hidden]\n",
    "                    input_shape = (seq_length, n_out)))       # input의 shape = [n_batch, 25, 1]\n",
    "\n",
    "# input과 output을 모두 연결하는 Dense Layer를 만든다\n",
    "# (RNN Cell에서 output된 y_hat(dim = n_batch)들을 input으로 받아와 최종 output layer(dim = n_out)과 모두 연결)\n",
    "\n",
    "model.add(Dense(n_out, init = weight_variable))\n",
    "model.add(Activation(\"linear\")) \n",
    "# 두 층 사이의 활성함수는 linear combination (y_hat = y_hat*W + b)"
   ]
  },
  {
   "cell_type": "code",
   "execution_count": 24,
   "metadata": {},
   "outputs": [],
   "source": [
    "optimizer = keras.optimizers.Adam(lr = 0.001, beta_1 = 0.9, beta_2 = 0.999) \n",
    "model.compile(loss = \"mean_squared_error\", optimizer = optimizer)           \n",
    "\n",
    "# Adam optimizer의 성능을 높이는 학습률과 상수 설정\n",
    "# 손실함수로 predicted y와 true y의 MSE 설정"
   ]
  },
  {
   "cell_type": "code",
   "execution_count": 25,
   "metadata": {},
   "outputs": [
    {
     "data": {
      "text/plain": [
       "<keras.callbacks.History at 0x15936021cf8>"
      ]
     },
     "execution_count": 25,
     "metadata": {},
     "output_type": "execute_result"
    }
   ],
   "source": [
    "epochs = 500     # 총 학습횟수\n",
    "batch_size = 10  # mini-batch\n",
    "\n",
    "model.fit(X_train, Y_train, batch_size = batch_size, epochs = epochs,\n",
    "          validation_data = (X_valid, Y_valid), verbose = 0)\n",
    "\n",
    "# 학습마다 158//10 번의 mini-batch를 총 500번 반복학습한다"
   ]
  },
  {
   "cell_type": "code",
   "execution_count": 26,
   "metadata": {},
   "outputs": [
    {
     "data": {
      "image/png": "[encoded data removed]",
      "text/plain": [
       "<Figure size 432x288 with 1 Axes>"
      ]
     },
     "metadata": {},
     "output_type": "display_data"
    }
   ],
   "source": [
    "y_pred = model.predict(X)                    # shape는 [len(X), 1]으로 2차원이므로\n",
    "predicted = y_pred.reshape(y_pred.shape[0])  # 1차원 array로 reshape\n",
    "\n",
    "plt.plot(toy_problem(T, ampl = 0), ':k')\n",
    "plt.plot(np.arange(seq_length+1, 2*T+1+1), predicted, 'orange')\n",
    "plt.show()"
   ]
  },
  {
   "cell_type": "code",
   "execution_count": null,
   "metadata": {},
   "outputs": [],
   "source": []
  }
 ],
 "metadata": {
  "kernelspec": {
   "display_name": "Python 3",
   "language": "python",
   "name": "python3"
  },
  "language_info": {
   "codemirror_mode": {
    "name": "ipython",
    "version": 3
   },
   "file_extension": ".py",
   "mimetype": "text/x-python",
   "name": "python",
   "nbconvert_exporter": "python",
   "pygments_lexer": "ipython3",
   "version": "3.6.7"
  }
 },
 "nbformat": 4,
 "nbformat_minor": 2
}

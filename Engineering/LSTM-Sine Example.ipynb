{
 "cells": [
  {
   "cell_type": "markdown",
   "metadata": {},
   "source": [
    "## LSTM을 이용한 SINE 함수 예측\n",
    "  \n",
    "과목명 | 금융공학  \n",
    "교수명 | 안재윤 교수님  \n",
    "제출일 | 2018년 12월 11일  \n",
    "  \n",
    "학　번 | 182STG18  \n",
    "이　름 | 이하경  "
   ]
  },
  {
   "cell_type": "code",
   "execution_count": 1,
   "metadata": {},
   "outputs": [],
   "source": [
    "import tensorflow as tf\n",
    "import numpy as np\n",
    "import matplotlib.pyplot as plt"
   ]
  },
  {
   "cell_type": "code",
   "execution_count": 2,
   "metadata": {},
   "outputs": [],
   "source": [
    "def sin(x, T = 100):\n",
    "    return np.sin(2 * np.pi * x / T)\n",
    "\n",
    "def toy_problem(T = 100, ampl = 0.05):\n",
    "    x = np.arange(0, 2*T +1) # sequence 0, ..., 200\n",
    "    noise = ampl * np.random.uniform(low = -1, high = 1, size = len(x))\n",
    "    return sin(x) + noise"
   ]
  },
  {
   "cell_type": "code",
   "execution_count": 3,
   "metadata": {},
   "outputs": [
    {
     "data": {
      "image/png": "[encoded data removed]",
      "text/plain": [
       "<Figure size 432x288 with 1 Axes>"
      ]
     },
     "metadata": {},
     "output_type": "display_data"
    }
   ],
   "source": [
    "f = toy_problem(T=100, ampl=0.05)\n",
    "x = np.arange(0, 200 +1) / 200 * 4 * np.pi\n",
    "\n",
    "plt.plot(x, f)\n",
    "plt.show()"
   ]
  },
  {
   "cell_type": "code",
   "execution_count": 4,
   "metadata": {},
   "outputs": [],
   "source": [
    "seq_length = 25\n",
    "\n",
    "data = []\n",
    "target = []\n",
    "\n",
    "for i in range(0, len(x) - seq_length): \n",
    "    data.append(f[i:(i+seq_length)])    \n",
    "    target.append(f[i+seq_length])      \n",
    "    \n",
    "X = np.array(data).reshape(len(data), seq_length, 1)\n",
    "Y = np.array(target).reshape(len(data), 1)                "
   ]
  },
  {
   "cell_type": "code",
   "execution_count": 5,
   "metadata": {},
   "outputs": [],
   "source": [
    "from sklearn.model_selection import train_test_split\n",
    "\n",
    "N_train = int(len(data) * 0.9)\n",
    "N_valid = len(data) - N_train\n",
    "\n",
    "X_train, X_valid, Y_train, Y_valid = train_test_split(X, Y, test_size = N_valid)"
   ]
  },
  {
   "cell_type": "markdown",
   "metadata": {},
   "source": [
    "### Modeling"
   ]
  },
  {
   "cell_type": "code",
   "execution_count": 6,
   "metadata": {},
   "outputs": [],
   "source": [
    "n_in = X.shape[-1]  # X의 feature(variable)의 개수 (=1)\n",
    "n_out = X.shape[-1] # Y의 class의 개수 (=1)\n",
    "\n",
    "n_hidden = 100"
   ]
  },
  {
   "cell_type": "code",
   "execution_count": 7,
   "metadata": {},
   "outputs": [],
   "source": [
    "x = tf.placeholder(tf.float32, [None, seq_length, n_in]) # sequence를 feed\n",
    "p = tf.placeholder(tf.float32, [None, n_out])            # target을 feed\n",
    "n_batch = tf.placeholder(tf.int32)"
   ]
  },
  {
   "cell_type": "code",
   "execution_count": 8,
   "metadata": {},
   "outputs": [],
   "source": [
    "def get_variable(name, shape):\n",
    "    return tf.get_variable(name, shape, tf.float32,\n",
    "                           initializer = tf.contrib.layers.xavier_initializer())"
   ]
  },
  {
   "cell_type": "markdown",
   "metadata": {},
   "source": [
    "### LSTM Cell :"
   ]
  },
  {
   "cell_type": "code",
   "execution_count": 9,
   "metadata": {},
   "outputs": [],
   "source": [
    "############### hidden state ###############\n",
    "Wxh = get_variable('Wxh', [n_in, n_hidden])\n",
    "Whh = get_variable('Wh', [n_hidden, n_hidden])\n",
    "Wh = tf.concat([Wxh, Whh], axis = 0)\n",
    "bh = get_variable('bh', [n_hidden])\n",
    "\n",
    "############### memory state ###############\n",
    "Wxc = get_variable('Wxc', [n_in, n_hidden])\n",
    "Whc = get_variable('Whc', [n_hidden, n_hidden])\n",
    "Wc = tf.concat([Wxc, Whc], axis = 0)\n",
    "bc = get_variable('bc', [n_hidden])\n",
    "\n",
    "############### input gate ###############\n",
    "Wxu =  get_variable('Wxu', [n_in, n_hidden])\n",
    "Whu = get_variable('Whu', [n_hidden, n_hidden])\n",
    "Wu = tf.concat([Wxu, Whu], axis = 0)\n",
    "bu = get_variable('bu', [n_hidden])\n",
    "\n",
    "############### forget gate ###############\n",
    "Wxf = get_variable('Wxf', [n_in, n_hidden])\n",
    "Whf = get_variable('Whf', [n_hidden, n_hidden])\n",
    "Wf = tf.concat([Wxf, Whf], axis = 0)\n",
    "bf = get_variable('bf', [n_hidden])\n",
    "\n",
    "############### output gate ###############\n",
    "Wxo = get_variable('Wxo', [n_in, n_hidden])\n",
    "Who = get_variable('Who', [n_hidden, n_hidden])\n",
    "Wo = tf.concat([Wxo, Who], axis = 0)\n",
    "bo = get_variable('bo', [n_hidden])\n",
    "\n",
    "############### more step ###############\n",
    "Why = get_variable('Why', [n_hidden, 1])\n",
    "by = get_variable('by', [1])\n",
    "\n",
    "W = get_variable('W', [1, n_out]) # linear\n",
    "b = get_variable('b', [n_out])        "
   ]
  },
  {
   "cell_type": "code",
   "execution_count": 10,
   "metadata": {},
   "outputs": [],
   "source": [
    "init_state = tf.zeros([n_batch, n_hidden], tf.float32)\n",
    "hidden = init_state\n",
    "memory = init_state\n",
    "\n",
    "y_hats = []\n",
    "hiddens = []\n",
    "memorys = []\n",
    "\n",
    "x_ = tf.unstack(x, axis = 1)\n",
    "for t, x_t in enumerate(x_):\n",
    "    \n",
    "    hx = tf.concat([x_t, hidden], axis = 1)                                # 이전 시점의 hidden state를 받아옴\n",
    "    \n",
    "    memory_new = tf.tanh( tf.matmul(hx, Wc) + bc )\n",
    "    tau_u = tf.sigmoid( tf.matmul(hx, Wu) + bu )\n",
    "    tau_f = tf.sigmoid( tf.matmul(hx, Wf) + bf )\n",
    "    tau_o = tf.sigmoid( tf.matmul(hx, Wo) + bo )\n",
    "\n",
    "    memory = tf.multiply(tau_u, memory_new) + tf.multiply(tau_f, memory)   # 이전 시점의 memory state 값과 \n",
    "                                                                           # 새로운 memory의 합으로 현재시점의 메모리 계산\n",
    "    hidden = tf.multiply(tau_o, tf.tanh( memory_new ))\n",
    "    y_hat = tf.tanh( tf.matmul(hidden, Why) + by )\n",
    "    \n",
    "    hiddens.append(hidden)\n",
    "    memorys.append(memory)\n",
    "    y_hats.append(y_hat)\n",
    "    \n",
    "output = y_hats[-1]\n",
    "y = tf.matmul(output, W) + b"
   ]
  },
  {
   "cell_type": "code",
   "execution_count": 11,
   "metadata": {},
   "outputs": [],
   "source": [
    "loss = tf.reduce_mean(tf.square(y - p))\n",
    "optimizer = tf.train.AdamOptimizer(learning_rate = 0.001, beta1 = 0.9, beta2 = 0.999)\n",
    "train_step = optimizer.minimize(loss)"
   ]
  },
  {
   "cell_type": "code",
   "execution_count": 12,
   "metadata": {},
   "outputs": [],
   "source": [
    "init = tf.global_variables_initializer()\n",
    "sess = tf.Session()\n",
    "sess.run(init)\n",
    "\n",
    "epochs = 500\n",
    "batch_size = 10\n",
    "n_batches = N_train // batch_size\n",
    "\n",
    "from sklearn.utils import shuffle\n",
    "\n",
    "my_loss = []\n",
    "for epoch in range(epochs):\n",
    "    X_, Y_ = shuffle(X_train, Y_train)\n",
    "    \n",
    "    for i in range(n_batches):\n",
    "        start = i * batch_size\n",
    "        end = start + batch_size\n",
    "        sess.run(train_step, feed_dict = {\n",
    "            x: X_[start:end], p: Y_[start:end], n_batch: batch_size\n",
    "        })\n",
    "        val_loss = sess.run(loss, feed_dict = {\n",
    "            x: X_[start:end], p: Y_[start:end], n_batch: batch_size\n",
    "        })\n",
    "        my_loss.append(val_loss)\n",
    "        \n",
    "#         if epoch %  10 == 0:\n",
    "#             print(\"epoch:\", epoch, \"current loss:\", val_loss)\n"
   ]
  },
  {
   "cell_type": "code",
   "execution_count": 13,
   "metadata": {},
   "outputs": [
    {
     "data": {
      "image/png": "[encoded data removed]",
      "text/plain": [
       "<Figure size 432x288 with 1 Axes>"
      ]
     },
     "metadata": {},
     "output_type": "display_data"
    }
   ],
   "source": [
    "plt.plot(my_loss)\n",
    "plt.ylabel('MSE')\n",
    "plt.show()"
   ]
  },
  {
   "cell_type": "code",
   "execution_count": 14,
   "metadata": {},
   "outputs": [
    {
     "data": {
      "text/plain": [
       "0.00084474747"
      ]
     },
     "execution_count": 14,
     "metadata": {},
     "output_type": "execute_result"
    }
   ],
   "source": [
    "loss.eval(session = sess, feed_dict = { x: X_train, p: Y_train, n_batch: X_train.shape[0] }) # train"
   ]
  },
  {
   "cell_type": "code",
   "execution_count": 15,
   "metadata": {},
   "outputs": [
    {
     "data": {
      "text/plain": [
       "0.0013664048"
      ]
     },
     "execution_count": 15,
     "metadata": {},
     "output_type": "execute_result"
    }
   ],
   "source": [
    "loss.eval(session = sess, feed_dict = { x: X_valid, p: Y_valid, n_batch: X_valid.shape[0] }) # test"
   ]
  },
  {
   "cell_type": "code",
   "execution_count": 16,
   "metadata": {},
   "outputs": [],
   "source": [
    "y_pred = y.eval(session = sess, feed_dict = { x: X, p: Y, n_batch: X.shape[0] })"
   ]
  },
  {
   "cell_type": "code",
   "execution_count": 17,
   "metadata": {},
   "outputs": [
    {
     "data": {
      "image/png": "[encoded data removed]",
      "text/plain": [
       "<Figure size 432x288 with 1 Axes>"
      ]
     },
     "metadata": {},
     "output_type": "display_data"
    }
   ],
   "source": [
    "time = np.arange(seq_length+1, (seq_length+X.shape[0]+1))\n",
    "\n",
    "plt.plot(toy_problem(100, ampl = 0), ':k')\n",
    "plt.plot(time, y_pred.reshape(y_pred.shape[0]), 'r')\n",
    "plt.show()"
   ]
  },
  {
   "cell_type": "code",
   "execution_count": null,
   "metadata": {},
   "outputs": [],
   "source": []
  }
 ],
 "metadata": {
  "kernelspec": {
   "display_name": "Python 3",
   "language": "python",
   "name": "python3"
  },
  "language_info": {
   "codemirror_mode": {
    "name": "ipython",
    "version": 3
   },
   "file_extension": ".py",
   "mimetype": "text/x-python",
   "name": "python",
   "nbconvert_exporter": "python",
   "pygments_lexer": "ipython3",
   "version": "3.6.7"
  }
 },
 "nbformat": 4,
 "nbformat_minor": 2
}

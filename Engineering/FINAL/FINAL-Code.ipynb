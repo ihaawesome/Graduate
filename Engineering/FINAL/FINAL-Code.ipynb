{
 "cells": [
  {
   "cell_type": "markdown",
   "metadata": {
    "colab_type": "text",
    "id": "ZUDw8mzTRcGo"
   },
   "source": [
    "2018 Fall  \n",
    "Final Project  \n",
    "# **Quick-Draw Pictures Recognition with CNN**\n",
    "\n",
    "---\n",
    "2조  \n",
    "182STG24 박수경  \n",
    "182STG18 이하경  \n",
    "182STG27 임지연\n",
    "\n",
    "---\n",
    "과목명 | 금융공학  \n",
    "교수명 | 안재윤 교수님  \n",
    "제출일 | 2018년 12월 17일  "
   ]
  },
  {
   "cell_type": "code",
   "execution_count": 0,
   "metadata": {
    "colab": {
     "base_uri": "https://localhost:8080/",
     "height": 35
    },
    "colab_type": "code",
    "id": "K9-LVOIy93zC",
    "outputId": "93f4bfc6-6356-4fec-a361-9862deba5f60"
   },
   "outputs": [
    {
     "name": "stderr",
     "output_type": "stream",
     "text": [
      "Using TensorFlow backend.\n"
     ]
    }
   ],
   "source": [
    "import tensorflow as tf\n",
    "import numpy as np\n",
    "import matplotlib.pyplot as plt\n",
    "import os\n",
    "import glob\n",
    "import keras\n",
    "\n",
    "from tensorflow.keras import layers\n",
    "from sklearn.model_selection import train_test_split\n",
    "from sklearn.utils import shuffle"
   ]
  },
  {
   "cell_type": "markdown",
   "metadata": {
    "colab_type": "text",
    "id": "Mz0hXTpcQnCU"
   },
   "source": [
    "## Data Exploration"
   ]
  },
  {
   "cell_type": "code",
   "execution_count": 0,
   "metadata": {
    "colab": {},
    "colab_type": "code",
    "id": "dgFWR4h9_uQU"
   },
   "outputs": [],
   "source": [
    "classes = ['guitar', 'fish', 'laptop', 'pencil', 'scissors',\n",
    "           'sheep', 'soccer_ball', 'teddy-bear', 'The_Eiffel_Tower', 'The_Mona_Lisa']\n",
    "\n",
    "# 10가지 CLASS만 사용한다"
   ]
  },
  {
   "cell_type": "code",
   "execution_count": 0,
   "metadata": {
    "colab": {},
    "colab_type": "code",
    "id": "1rtFYyEWBSc6"
   },
   "outputs": [],
   "source": [
    "!mkdir dataset # 디렉토리 경로 생성"
   ]
  },
  {
   "cell_type": "code",
   "execution_count": 0,
   "metadata": {
    "colab": {},
    "colab_type": "code",
    "id": "E5jFPndS9z0S"
   },
   "outputs": [],
   "source": [
    "import urllib.request\n",
    "def download():\n",
    "  \n",
    "  base = 'https://storage.googleapis.com/quickdraw_dataset/full/numpy_bitmap/'\n",
    "  \n",
    "  for c in classes:\n",
    "    class_url = c.replace('_', '%20')\n",
    "    path = base + class_url + '.npy'\n",
    "    \n",
    "    print(path)\n",
    "    urllib.request.urlretrieve(path, 'dataset/' + c + '.npy')"
   ]
  },
  {
   "cell_type": "code",
   "execution_count": 0,
   "metadata": {
    "colab": {
     "base_uri": "https://localhost:8080/",
     "height": 195
    },
    "colab_type": "code",
    "id": "JZIEW-ey-q_c",
    "outputId": "cd3fc2f3-7a44-4590-cb63-62bf5832dee5"
   },
   "outputs": [
    {
     "name": "stdout",
     "output_type": "stream",
     "text": [
      "https://storage.googleapis.com/quickdraw_dataset/full/numpy_bitmap/guitar.npy\n",
      "https://storage.googleapis.com/quickdraw_dataset/full/numpy_bitmap/fish.npy\n",
      "https://storage.googleapis.com/quickdraw_dataset/full/numpy_bitmap/laptop.npy\n",
      "https://storage.googleapis.com/quickdraw_dataset/full/numpy_bitmap/pencil.npy\n",
      "https://storage.googleapis.com/quickdraw_dataset/full/numpy_bitmap/scissors.npy\n",
      "https://storage.googleapis.com/quickdraw_dataset/full/numpy_bitmap/sheep.npy\n",
      "https://storage.googleapis.com/quickdraw_dataset/full/numpy_bitmap/soccer%20ball.npy\n",
      "https://storage.googleapis.com/quickdraw_dataset/full/numpy_bitmap/teddy-bear.npy\n",
      "https://storage.googleapis.com/quickdraw_dataset/full/numpy_bitmap/The%20Eiffel%20Tower.npy\n",
      "https://storage.googleapis.com/quickdraw_dataset/full/numpy_bitmap/The%20Mona%20Lisa.npy\n"
     ]
    }
   ],
   "source": [
    "download()"
   ]
  },
  {
   "cell_type": "code",
   "execution_count": 0,
   "metadata": {
    "colab": {},
    "colab_type": "code",
    "id": "yVNkBP9QAhbf"
   },
   "outputs": [],
   "source": [
    "def load_data(root, max_items_per_class = 10000):\n",
    "  all_files = glob.glob(os.path.join(root, '*.npy'))\n",
    "  \n",
    "  x = np.empty([0, 784])\n",
    "  y = np.empty([0])\n",
    "  class_names = []\n",
    "  \n",
    "  # 파일을 하나씩 로드\n",
    "  for idx, file in enumerate(all_files):\n",
    "    data = np.load(file)\n",
    "    data = data[0:max_items_per_class, :]\n",
    "    labels = np.full(data.shape[0], idx)\n",
    "    \n",
    "    x = np.concatenate((x, data), axis = 0)\n",
    "    y = np.append(y, labels)\n",
    "    \n",
    "    class_name, ext = os.path.splitext(os.path.basename(file))\n",
    "    class_names.append(class_name)\n",
    "    \n",
    "  data = None\n",
    "  labels = None\n",
    "  \n",
    "  # 순서를 무작위로 섞는다\n",
    "  x, y = shuffle(x, y, random_state = 100)\n",
    "\n",
    "  # train(80%), test(20%) \n",
    "  x_train, x_test, y_train, y_test = train_test_split(x, y, test_size = 0.2, \n",
    "                                                      random_state = 100)\n",
    "  \n",
    "  return x_train, x_test, y_train, y_test, class_names"
   ]
  },
  {
   "cell_type": "code",
   "execution_count": 0,
   "metadata": {
    "colab": {},
    "colab_type": "code",
    "id": "lZSkRCwOE954"
   },
   "outputs": [],
   "source": [
    "x_train, x_test, y_train, y_test, class_names = load_data('dataset')"
   ]
  },
  {
   "cell_type": "code",
   "execution_count": 0,
   "metadata": {
    "colab": {},
    "colab_type": "code",
    "id": "JmSVu1ZkFMqp"
   },
   "outputs": [],
   "source": [
    "n_classes = len(class_names) # 10 classes"
   ]
  },
  {
   "cell_type": "code",
   "execution_count": 0,
   "metadata": {
    "colab": {
     "base_uri": "https://localhost:8080/",
     "height": 35
    },
    "colab_type": "code",
    "id": "v7LDgFb2FVfw",
    "outputId": "44955cde-bfa8-4019-9d88-58c221982365"
   },
   "outputs": [
    {
     "name": "stdout",
     "output_type": "stream",
     "text": [
      "(80000, 784) (80000,) (20000, 784) (20000,) 10\n"
     ]
    }
   ],
   "source": [
    "print(x_train.shape, y_train.shape, x_test.shape, y_test.shape, n_classes)"
   ]
  },
  {
   "cell_type": "code",
   "execution_count": 0,
   "metadata": {
    "colab": {
     "base_uri": "https://localhost:8080/",
     "height": 361
    },
    "colab_type": "code",
    "id": "kCahQwcPFiOV",
    "outputId": "bb35eab5-e0ed-4dd9-d882-737df7cea898"
   },
   "outputs": [
    {
     "data": {
      "image/png": "[encoded data removed]",
      "text/plain": [
       "<matplotlib.figure.Figure at 0x7fdbceb603c8>"
      ]
     },
     "metadata": {
      "tags": []
     },
     "output_type": "display_data"
    }
   ],
   "source": [
    "randomid = np.random.randint(0, len(x_train), size = 25)\n",
    "\n",
    "fig = plt.figure()\n",
    "\n",
    "for i in range(25):\n",
    "  plt.subplot(5, 5, i +1)\n",
    "  plt.axis('off')\n",
    "  plt.imshow(x_train[randomid[i]].reshape(28, 28))\n",
    "  plt.title(class_names[int(y_train[randomid[i]].item())], fontsize = 10)\n",
    "  \n",
    "plt.show()"
   ]
  },
  {
   "cell_type": "code",
   "execution_count": 0,
   "metadata": {
    "colab": {},
    "colab_type": "code",
    "id": "uuC_yRO1IGRR"
   },
   "outputs": [],
   "source": [
    "# CNN을 위해 4차원으로 Reshape\n",
    "trainX = x_train.reshape(x_train.shape[0], 28, 28, 1).astype('float32')\n",
    "testX = x_test.reshape(x_test.shape[0], 28, 28, 1).astype('float32')\n",
    "\n",
    "# Color을 (0-1) 사이 값으로 반환\n",
    "trainX /= 255.0\n",
    "testX /= 255.0\n",
    "\n",
    "# One-Hot Code 형식으로 변환\n",
    "trainY = keras.utils.to_categorical(y_train, n_classes)\n",
    "testY = keras.utils.to_categorical(y_test, n_classes)"
   ]
  },
  {
   "cell_type": "code",
   "execution_count": 0,
   "metadata": {
    "colab": {
     "base_uri": "https://localhost:8080/",
     "height": 159
    },
    "colab_type": "code",
    "id": "AjcEJIrZINaL",
    "outputId": "80955f91-abf3-4853-c4bc-47af2901c4e9"
   },
   "outputs": [
    {
     "name": "stdout",
     "output_type": "stream",
     "text": [
      "(80000, 10)\n"
     ]
    },
    {
     "data": {
      "text/plain": [
       "array([[0., 0., 1., ..., 0., 0., 0.],\n",
       "       [0., 0., 0., ..., 1., 0., 0.],\n",
       "       [0., 1., 0., ..., 0., 0., 0.],\n",
       "       ...,\n",
       "       [0., 1., 0., ..., 0., 0., 0.],\n",
       "       [0., 0., 0., ..., 0., 0., 0.],\n",
       "       [0., 0., 0., ..., 0., 0., 0.]], dtype=float32)"
      ]
     },
     "execution_count": 12,
     "metadata": {
      "tags": []
     },
     "output_type": "execute_result"
    }
   ],
   "source": [
    "print(trainY.shape)\n",
    "trainY"
   ]
  },
  {
   "cell_type": "markdown",
   "metadata": {
    "colab_type": "text",
    "id": "tTNkW6BLSOnb"
   },
   "source": [
    "## Modeling"
   ]
  },
  {
   "cell_type": "code",
   "execution_count": 0,
   "metadata": {
    "colab": {},
    "colab_type": "code",
    "id": "YkCIwXvgSQ-q"
   },
   "outputs": [],
   "source": [
    "from keras.models import Sequential\n",
    "from keras.layers import Dense, Dropout, Flatten\n",
    "from keras.layers import Conv2D, MaxPooling2D"
   ]
  },
  {
   "cell_type": "code",
   "execution_count": 0,
   "metadata": {
    "colab": {},
    "colab_type": "code",
    "id": "UwCzlDqHujEf"
   },
   "outputs": [],
   "source": [
    "# Filters' Width, Height\n",
    "FW1 = 5\n",
    "FW2 = 5\n",
    "\n",
    "# Number of Filters\n",
    "FN1 = 64\n",
    "FN2 = 64\n",
    "\n",
    "n_hidden = 256     # Affine Layer의 Node 수\n",
    "batch_size = 128\n",
    "epochs = 10"
   ]
  },
  {
   "cell_type": "code",
   "execution_count": 0,
   "metadata": {
    "colab": {},
    "colab_type": "code",
    "id": "hj9BYx9JgatS"
   },
   "outputs": [],
   "source": [
    "model = Sequential()"
   ]
  },
  {
   "cell_type": "markdown",
   "metadata": {
    "colab_type": "text",
    "id": "6aGXQTCoYpnZ"
   },
   "source": [
    "Convolution Layers"
   ]
  },
  {
   "cell_type": "code",
   "execution_count": 0,
   "metadata": {
    "colab": {},
    "colab_type": "code",
    "id": "vDpk81jeYYH3"
   },
   "outputs": [],
   "source": [
    "# Convolution Layer 1\n",
    "model.add(Conv2D(FN1, kernel_size = (FW1, FW1), padding = 'same', \n",
    "                 activation = 'relu', input_shape = (28, 28, 1)))\n",
    "model.add(MaxPooling2D(pool_size = (2, 2)))\n",
    "\n",
    "# Convolution Layer 2\n",
    "model.add(Conv2D(FN2, kernel_size = (FW2, FW2), padding = 'same',\n",
    "                 activation = 'relu', input_shape = (14, 14, FN1)))\n",
    "model.add(MaxPooling2D(pool_size = (2, 2)))"
   ]
  },
  {
   "cell_type": "markdown",
   "metadata": {
    "colab_type": "text",
    "id": "eWGm7vc5c6Sg"
   },
   "source": [
    "Affine (Dense) Layers"
   ]
  },
  {
   "cell_type": "code",
   "execution_count": 0,
   "metadata": {
    "colab": {},
    "colab_type": "code",
    "id": "MY0nW3jpc8Rg"
   },
   "outputs": [],
   "source": [
    "model.add(Flatten())\n",
    "\n",
    "# Affine Layer 1\n",
    "model.add(Dense(n_hidden, activation = 'relu'))\n",
    "\n",
    "# Affine Layer 2 (Output Layer)\n",
    "model.add(Dense(n_classes, activation = 'softmax'))"
   ]
  },
  {
   "cell_type": "code",
   "execution_count": 0,
   "metadata": {
    "colab": {},
    "colab_type": "code",
    "id": "Hc40Z6Kddg6e"
   },
   "outputs": [],
   "source": [
    "optimizer = tf.train.AdamOptimizer() # learning_rate = 0.001 (default)\n",
    "\n",
    "model.compile(loss = 'categorical_crossentropy', optimizer = optimizer,\n",
    "              metrics = ['accuracy'])"
   ]
  },
  {
   "cell_type": "code",
   "execution_count": 0,
   "metadata": {
    "colab": {
     "base_uri": "https://localhost:8080/",
     "height": 408
    },
    "colab_type": "code",
    "id": "JBjuRbstd_vI",
    "outputId": "0546dd44-94ae-4a39-b56f-1476a2293d74"
   },
   "outputs": [
    {
     "name": "stdout",
     "output_type": "stream",
     "text": [
      "_________________________________________________________________\n",
      "Layer (type)                 Output Shape              Param #   \n",
      "=================================================================\n",
      "conv2d_3 (Conv2D)            (None, 28, 28, 64)        1664      \n",
      "_________________________________________________________________\n",
      "max_pooling2d_3 (MaxPooling2 (None, 14, 14, 64)        0         \n",
      "_________________________________________________________________\n",
      "conv2d_4 (Conv2D)            (None, 14, 14, 64)        102464    \n",
      "_________________________________________________________________\n",
      "max_pooling2d_4 (MaxPooling2 (None, 7, 7, 64)          0         \n",
      "_________________________________________________________________\n",
      "flatten_2 (Flatten)          (None, 3136)              0         \n",
      "_________________________________________________________________\n",
      "dense_3 (Dense)              (None, 256)               803072    \n",
      "_________________________________________________________________\n",
      "dense_4 (Dense)              (None, 10)                2570      \n",
      "=================================================================\n",
      "Total params: 909,770\n",
      "Trainable params: 909,770\n",
      "Non-trainable params: 0\n",
      "_________________________________________________________________\n",
      "None\n"
     ]
    }
   ],
   "source": [
    "print(model.summary())"
   ]
  },
  {
   "cell_type": "code",
   "execution_count": 0,
   "metadata": {
    "colab": {
     "base_uri": "https://localhost:8080/",
     "height": 390
    },
    "colab_type": "code",
    "id": "dP3mUjneeBe2",
    "outputId": "5a94ced8-d39c-4720-f735-73b124a246c9"
   },
   "outputs": [
    {
     "name": "stdout",
     "output_type": "stream",
     "text": [
      "Train on 80000 samples, validate on 20000 samples\n",
      "Epoch 1/10\n",
      "80000/80000 [==============================] - 12s 147us/step - loss: 0.3552 - acc: 0.8952 - val_loss: 0.2121 - val_acc: 0.9405\n",
      "Epoch 2/10\n",
      "80000/80000 [==============================] - 11s 142us/step - loss: 0.1789 - acc: 0.9496 - val_loss: 0.1760 - val_acc: 0.9481\n",
      "Epoch 3/10\n",
      "80000/80000 [==============================] - 11s 142us/step - loss: 0.1345 - acc: 0.9611 - val_loss: 0.1534 - val_acc: 0.9569\n",
      "Epoch 4/10\n",
      "80000/80000 [==============================] - 11s 142us/step - loss: 0.1035 - acc: 0.9694 - val_loss: 0.1465 - val_acc: 0.9587\n",
      "Epoch 5/10\n",
      "80000/80000 [==============================] - 11s 142us/step - loss: 0.0751 - acc: 0.9772 - val_loss: 0.1626 - val_acc: 0.9569\n",
      "Epoch 6/10\n",
      "80000/80000 [==============================] - 11s 143us/step - loss: 0.0533 - acc: 0.9832 - val_loss: 0.1901 - val_acc: 0.9552\n",
      "Epoch 7/10\n",
      "80000/80000 [==============================] - 11s 143us/step - loss: 0.0364 - acc: 0.9885 - val_loss: 0.1965 - val_acc: 0.9546\n",
      "Epoch 8/10\n",
      "80000/80000 [==============================] - 11s 142us/step - loss: 0.0280 - acc: 0.9908 - val_loss: 0.2245 - val_acc: 0.9528\n",
      "Epoch 9/10\n",
      "80000/80000 [==============================] - 11s 141us/step - loss: 0.0217 - acc: 0.9929 - val_loss: 0.2491 - val_acc: 0.9536\n",
      "Epoch 10/10\n",
      "80000/80000 [==============================] - 11s 141us/step - loss: 0.0187 - acc: 0.9938 - val_loss: 0.2280 - val_acc: 0.9554\n"
     ]
    }
   ],
   "source": [
    "my_learning = model.fit(trainX, trainY, \n",
    "                        batch_size = batch_size, \n",
    "                        epochs = epochs,\n",
    "                        validation_data = (testX, testY))\n",
    "\n",
    "# history 저장"
   ]
  },
  {
   "cell_type": "markdown",
   "metadata": {
    "colab_type": "text",
    "id": "01bEdOYjg4Em"
   },
   "source": [
    "## Evaluation"
   ]
  },
  {
   "cell_type": "code",
   "execution_count": 0,
   "metadata": {
    "colab": {
     "base_uri": "https://localhost:8080/",
     "height": 52
    },
    "colab_type": "code",
    "id": "yUWPKB_IeWdi",
    "outputId": "e90ba50a-d03f-43d8-a066-e0ce7a502b0d"
   },
   "outputs": [
    {
     "name": "stdout",
     "output_type": "stream",
     "text": [
      "Train Accuracy: 99.575%\n",
      "Test Accuracy: 95.54%\n"
     ]
    }
   ],
   "source": [
    "train_score = model.evaluate(trainX, trainY, verbose = 0)\n",
    "test_score = model.evaluate(testX, testY, verbose = 0)\n",
    "\n",
    "print('Train Accuracy: {}%'.format(train_score[1] * 100))\n",
    "print('Test Accuracy: {}%'.format(test_score[1] * 100))"
   ]
  },
  {
   "cell_type": "code",
   "execution_count": 0,
   "metadata": {
    "colab": {},
    "colab_type": "code",
    "id": "Ydb77qjq-Gh1"
   },
   "outputs": [],
   "source": [
    "train_loss = my_learning.history['loss']\n",
    "train_accuracy = my_learning.history['acc']\n",
    "test_loss = my_learning.history['val_loss']\n",
    "test_accuracy = my_learning.history['val_acc']"
   ]
  },
  {
   "cell_type": "code",
   "execution_count": 0,
   "metadata": {
    "colab": {
     "base_uri": "https://localhost:8080/",
     "height": 351
    },
    "colab_type": "code",
    "id": "kblnkEPfAYEZ",
    "outputId": "d2b0ca1d-9fb2-428c-8728-5f0bb1102fef"
   },
   "outputs": [
    {
     "data": {
      "image/png": "[encoded data removed]",
      "text/plain": [
       "<matplotlib.figure.Figure at 0x7fdbc3f6e198>"
      ]
     },
     "metadata": {
      "tags": []
     },
     "output_type": "display_data"
    }
   ],
   "source": [
    "plt.figure(figsize = (15, 5))\n",
    "\n",
    "plt.subplot(1, 2, 1)\n",
    "plt.plot(train_loss, '--b', label = 'Train')\n",
    "plt.plot(test_loss, '-r', label = 'Test')\n",
    "plt.xlabel('Epoch')\n",
    "plt.title('Loss', fontsize = 15)\n",
    "plt.legend()\n",
    "\n",
    "plt.subplot(1, 2, 2)\n",
    "plt.plot(train_accuracy, '--b', label = 'Train')\n",
    "plt.plot(test_accuracy, '-r', label = 'Test')\n",
    "plt.xlabel('Epoch')\n",
    "plt.title('Accuracy', fontsize = 15)\n",
    "plt.legend()\n",
    "\n",
    "plt.show()"
   ]
  },
  {
   "cell_type": "markdown",
   "metadata": {
    "colab_type": "text",
    "id": "wSXvn3BpeIy6"
   },
   "source": [
    "## Prediction"
   ]
  },
  {
   "cell_type": "code",
   "execution_count": 0,
   "metadata": {
    "colab": {
     "base_uri": "https://localhost:8080/",
     "height": 195
    },
    "colab_type": "code",
    "id": "o2CETrAV5ugA",
    "outputId": "b3814047-e000-4649-c397-bd05d09df08a"
   },
   "outputs": [
    {
     "name": "stdout",
     "output_type": "stream",
     "text": [
      "0 = pencil\n",
      "1 = fish\n",
      "2 = teddy-bear\n",
      "3 = The_Eiffel_Tower\n",
      "4 = scissors\n",
      "5 = guitar\n",
      "6 = The_Mona_Lisa\n",
      "7 = sheep\n",
      "8 = laptop\n",
      "9 = soccer_ball\n"
     ]
    }
   ],
   "source": [
    "for i in range(10):\n",
    "  print(\"{} = {}\".format(i, class_names[i]))"
   ]
  },
  {
   "cell_type": "code",
   "execution_count": 0,
   "metadata": {
    "colab": {
     "base_uri": "https://localhost:8080/",
     "height": 52
    },
    "colab_type": "code",
    "id": "HAezEHvQiwpR",
    "outputId": "023e5964-6ef4-4454-c277-e6e6e634b9d9"
   },
   "outputs": [
    {
     "name": "stdout",
     "output_type": "stream",
     "text": [
      "[3 1 2 7 5 9 7 3 6 4]\n",
      "[3 1 2 7 5 9 7 3 6 4]\n"
     ]
    }
   ],
   "source": [
    "sampleID = np.random.randint(0, len(testX), 10)\n",
    "sampleX = np.array([testX[i] for i in sampleID])\n",
    "sampleY = np.array([testY[i] for i in sampleID])\n",
    "\n",
    "predicted = model.predict_classes(sampleX, verbose = 0) \n",
    "\n",
    "targets = np.argmax(sampleY, axis = 1)                  \n",
    "predictions = predicted                                 \n",
    "\n",
    "print(targets)\n",
    "print(predictions)"
   ]
  },
  {
   "cell_type": "code",
   "execution_count": 0,
   "metadata": {
    "colab": {
     "base_uri": "https://localhost:8080/",
     "height": 35
    },
    "colab_type": "code",
    "id": "0BmvjIQAfjIR",
    "outputId": "63c57c19-c7e6-4724-dea6-12c26b69029a"
   },
   "outputs": [
    {
     "data": {
      "text/plain": [
       "array([3, 1, 2, 7, 5, 9, 7, 3, 6, 4])"
      ]
     },
     "execution_count": 36,
     "metadata": {
      "tags": []
     },
     "output_type": "execute_result"
    }
   ],
   "source": [
    "model.predict_classes(sampleX)"
   ]
  },
  {
   "cell_type": "code",
   "execution_count": 0,
   "metadata": {
    "colab": {
     "base_uri": "https://localhost:8080/",
     "height": 52
    },
    "colab_type": "code",
    "id": "m4WbpPF4ddcn",
    "outputId": "f6230863-f528-40ef-a30e-635f3f84940f"
   },
   "outputs": [
    {
     "name": "stdout",
     "output_type": "stream",
     "text": [
      "Sample 2:  [0. 1. 0. 0. 0. 0. 0. 0. 0. 0.]\n",
      "Sample 7:  [0. 0. 0. 0. 0. 0. 0. 1. 0. 0.]\n"
     ]
    }
   ],
   "source": [
    "predicted_prob = model.predict(sampleX, verbose = 0)\n",
    "\n",
    "print(\"Sample 2: \", np.round(predicted_prob[1], 3))\n",
    "print(\"Sample 7: \", np.round(predicted_prob[6], 3))"
   ]
  },
  {
   "cell_type": "code",
   "execution_count": 0,
   "metadata": {
    "colab": {
     "base_uri": "https://localhost:8080/"
    },
    "colab_type": "code",
    "id": "5uSUK3_VgJDC",
    "outputId": "b46d1363-4b8d-4139-b7f5-1a4e3301393d"
   },
   "outputs": [
    {
     "data": {
      "image/png": "[encoded data removed]",
      "text/plain": [
       "<matplotlib.figure.Figure at 0x7fdbc3e46668>"
      ]
     },
     "metadata": {
      "tags": []
     },
     "output_type": "display_data"
    }
   ],
   "source": [
    "fig = plt.figure(figsize = (10, 10))\n",
    "\n",
    "for i in range(len(sampleX)):\n",
    "  target = targets[i]\n",
    "  prediction = predictions[i]\n",
    "  \n",
    "  plt.subplot(5, 2, i +1)\n",
    "  plt.axis('off')\n",
    "  color = 'green' if target == prediction else 'red'\n",
    "  plt.text(30, 10, \"Target: \\nPrediction:\", fontsize = 12)\n",
    "  plt.text(50, 10, \"{0}\\n{1}\".format(class_names[target], class_names[prediction]),\n",
    "           fontsize = 12, color = color)\n",
    "  plt.imshow(sampleX[i].reshape(28, 28))\n",
    "\n",
    "plt.show()"
   ]
  },
  {
   "cell_type": "code",
   "execution_count": 0,
   "metadata": {
    "colab": {
     "base_uri": "https://localhost:8080/"
    },
    "colab_type": "code",
    "id": "7rNkskbBc4b-",
    "outputId": "6456d628-82d9-4ed1-b584-d325feccf469"
   },
   "outputs": [
    {
     "data": {
      "image/png": "[encoded data removed]",
      "text/plain": [
       "<matplotlib.figure.Figure at 0x7fdbc39f2978>"
      ]
     },
     "metadata": {
      "tags": []
     },
     "output_type": "display_data"
    }
   ],
   "source": [
    "from PIL import Image\n",
    "\n",
    "im1 = Image.open('monalisa.bmp')\n",
    "im2 = Image.open('bear.bmp')\n",
    "im3 = Image.open('eiffel.bmp')\n",
    "\n",
    "im_title = [\"JY's Mona Lisa\", \"HK's Teddy Bear\", \"SK's Eiffel Tower\"]\n",
    "\n",
    "for i, im in enumerate([im1, im2, im3]):\n",
    "  plt.subplot(1, 3, i +1)\n",
    "  plt.imshow(im)\n",
    "  plt.axis('off')\n",
    "  plt.title(im_title[i])\n",
    "\n",
    "plt.show()"
   ]
  },
  {
   "cell_type": "code",
   "execution_count": 0,
   "metadata": {
    "colab": {
     "base_uri": "https://localhost:8080/"
    },
    "colab_type": "code",
    "id": "o5iSXJ8vjqkv",
    "outputId": "a45df6e1-bb5a-416c-bf5a-cb85d3da9d0d"
   },
   "outputs": [
    {
     "name": "stdout",
     "output_type": "stream",
     "text": [
      "(3, 28, 28)\n",
      "(3, 10)\n"
     ]
    }
   ],
   "source": [
    "ims = np.array([np.array(im1), \n",
    "                np.array(im2), \n",
    "                np.array(im3)])\n",
    "print(ims.shape)\n",
    "\n",
    "ims = ims.reshape(3, 28, 28, 1)\n",
    "ims = ims / 255.0\n",
    "ims = 1- ims\n",
    "\n",
    "labels = np.array([np.array([0, 0, 0, 0, 0, 0, 1, 0, 0, 0]),  # 6: Mona Lisa\n",
    "                   np.array([0, 0, 1, 0, 0, 0, 0, 0, 0, 0]),  # 2: Teddy Bear\n",
    "                   np.array([0, 0, 0, 1, 0, 0, 0, 0, 0, 0])]) # 3: Eiffel Tower\n",
    "print(labels.shape)"
   ]
  },
  {
   "cell_type": "code",
   "execution_count": 0,
   "metadata": {
    "colab": {},
    "colab_type": "code",
    "id": "FobkNaZPkHTk"
   },
   "outputs": [],
   "source": [
    "predict_class = model.predict_classes(ims, verbose = 0)\n",
    "predict_prob = model.predict(ims, verbose = 0)"
   ]
  },
  {
   "cell_type": "code",
   "execution_count": 0,
   "metadata": {
    "colab": {
     "base_uri": "https://localhost:8080/"
    },
    "colab_type": "code",
    "id": "s3B4QAKvCzo9",
    "outputId": "7aa0fa01-aea6-4af8-f890-9b1e99c2bb15"
   },
   "outputs": [
    {
     "name": "stdout",
     "output_type": "stream",
     "text": [
      "[6 2 3]\n",
      "[[0.    0.    0.    0.    0.    0.    1.    0.    0.    0.   ]\n",
      " [0.    0.    0.718 0.    0.    0.003 0.    0.149 0.    0.13 ]\n",
      " [0.    0.    0.    1.    0.    0.    0.    0.    0.    0.   ]]\n"
     ]
    }
   ],
   "source": [
    "print(predict_class)\n",
    "print(np.round(predict_prob, 3))"
   ]
  },
  {
   "cell_type": "code",
   "execution_count": 0,
   "metadata": {
    "colab": {},
    "colab_type": "code",
    "id": "Fb9UQeJwC32w"
   },
   "outputs": [],
   "source": []
  }
 ],
 "metadata": {
  "accelerator": "GPU",
  "colab": {
   "collapsed_sections": [],
   "name": "FINAL-하경.ipynb",
   "provenance": [],
   "toc_visible": true,
   "version": "0.3.2"
  },
  "kernelspec": {
   "display_name": "Python 3",
   "language": "python",
   "name": "python3"
  },
  "language_info": {
   "codemirror_mode": {
    "name": "ipython",
    "version": 3
   },
   "file_extension": ".py",
   "mimetype": "text/x-python",
   "name": "python",
   "nbconvert_exporter": "python",
   "pygments_lexer": "ipython3",
   "version": "3.6.5"
  }
 },
 "nbformat": 4,
 "nbformat_minor": 1
}
